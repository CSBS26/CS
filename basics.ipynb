{
 "cells": [
  {
   "cell_type": "markdown",
   "id": "abfa33b3",
   "metadata": {},
   "source": [
    "Write a python program to compute volume of a sphere"
   ]
  },
  {
   "cell_type": "code",
   "execution_count": 2,
   "id": "a14916db",
   "metadata": {},
   "outputs": [
    {
     "name": "stdout",
     "output_type": "stream",
     "text": [
      "Enter radius:4\n",
      "Volume of sphere is: 267\n"
     ]
    }
   ],
   "source": [
    "r=int(input(\"Enter radius:\"))\n",
    "pi=3.14\n",
    "vol=(4/3)*pi*r*r*r\n",
    "print(\"Volume of sphere is:\",int(vol))"
   ]
  },
  {
   "cell_type": "markdown",
   "id": "3ff6d217",
   "metadata": {},
   "source": [
    "Compute mean of 5 values"
   ]
  },
  {
   "cell_type": "code",
   "execution_count": 11,
   "id": "ed6228e3",
   "metadata": {},
   "outputs": [
    {
     "name": "stdout",
     "output_type": "stream",
     "text": [
      "Enter a value 1\n",
      "Enter a value 2\n",
      "Enter a value 3\n",
      "Enter a value 4\n",
      "Enter a value 5\n",
      "Mean is  3.0\n"
     ]
    }
   ],
   "source": [
    "a=int(input(\"Enter a value \"))\n",
    "b=int(input(\"Enter a value \"))\n",
    "c=int(input(\"Enter a value \"))\n",
    "d=int(input(\"Enter a value \"))\n",
    "e=int(input(\"Enter a value \"))\n",
    "print(\"Mean is \",(a+b+c+d+e)/5)"
   ]
  },
  {
   "cell_type": "markdown",
   "id": "c3975e0e",
   "metadata": {},
   "source": [
    "Explore arithmetic operators "
   ]
  },
  {
   "cell_type": "code",
   "execution_count": 14,
   "id": "badddcf8",
   "metadata": {},
   "outputs": [
    {
     "name": "stdout",
     "output_type": "stream",
     "text": [
      "+ 9.5\n",
      "- 0.5\n",
      "* 22.5\n",
      "/ 1.1111111111111112\n",
      "** 1397.5424859373686\n",
      "// 1.0\n"
     ]
    }
   ],
   "source": [
    "a=5\n",
    "b=4.5\n",
    "print(\"+\",a+b)\n",
    "print(\"-\",a-b)\n",
    "print(\"*\",a*b)\n",
    "print(\"/\",a/b)\n",
    "print(\"**\",a**b)\n",
    "print(\"//\",a//b)"
   ]
  },
  {
   "cell_type": "markdown",
   "id": "933b07f5",
   "metadata": {},
   "source": [
    "Compute compound interest"
   ]
  },
  {
   "cell_type": "code",
   "execution_count": 15,
   "id": "392bc22e",
   "metadata": {},
   "outputs": [
    {
     "name": "stdout",
     "output_type": "stream",
     "text": [
      "Enter principle amount4\n",
      "Enter interest rate5\n",
      "Enter n8\n",
      "Enter time1\n",
      "Comound interest 194.4853594303131\n"
     ]
    }
   ],
   "source": [
    "p=int(input(\"Enter principle amount \"))\n",
    "r=int(input(\"Enter interest rate \"))\n",
    "n=int(input(\"Enter n \"))\n",
    "t=int(input(\"Enter time \"))\n",
    "a=p*pow((1+r/n),n*t)\n",
    "print(\"Comound interest\",a)"
   ]
  },
  {
   "cell_type": "markdown",
   "id": "5af0307b",
   "metadata": {},
   "source": [
    "relational operators"
   ]
  },
  {
   "cell_type": "code",
   "execution_count": 17,
   "id": "f958540f",
   "metadata": {},
   "outputs": [
    {
     "name": "stdout",
     "output_type": "stream",
     "text": [
      "== False\n",
      "!= True\n",
      "> True\n",
      ">= True\n",
      "< False\n",
      "<= False\n"
     ]
    }
   ],
   "source": [
    "a=5\n",
    "b=3\n",
    "print(\"==\",a==b)\n",
    "print(\"!=\",a!=b)\n",
    "print(\">\",a>b)\n",
    "print(\">=\",a>=b)\n",
    "print(\"<\",a<b)\n",
    "print(\"<=\",a<=b)"
   ]
  },
  {
   "cell_type": "markdown",
   "id": "c347a142",
   "metadata": {},
   "source": [
    "bitwise operators "
   ]
  },
  {
   "cell_type": "code",
   "execution_count": 25,
   "id": "b75825b7",
   "metadata": {},
   "outputs": [
    {
     "name": "stdout",
     "output_type": "stream",
     "text": [
      "<< 80\n",
      ">> 0\n",
      "| 5\n",
      "& 4\n",
      "^ 1\n"
     ]
    }
   ],
   "source": [
    "a=5\n",
    "b=4\n",
    "print(\"<<\",a<<b)\n",
    "print(\">>\",a>>b)\n",
    "print(\"|\",a|b)\n",
    "print(\"&\",a&b)\n",
    "print(\"^\",a^b)"
   ]
  },
  {
   "cell_type": "markdown",
   "id": "c8c5726b",
   "metadata": {},
   "source": [
    "logical operators"
   ]
  },
  {
   "cell_type": "code",
   "execution_count": 22,
   "id": "45f786fc",
   "metadata": {},
   "outputs": [
    {
     "name": "stdout",
     "output_type": "stream",
     "text": [
      "&& 4\n",
      "|| 5\n"
     ]
    }
   ],
   "source": [
    "a=5\n",
    "b=4\n",
    "print(\"&&\",a and b)\n",
    "print(\"||\",a or b)"
   ]
  },
  {
   "cell_type": "markdown",
   "id": "c088c0d6",
   "metadata": {},
   "source": [
    "Find the biggest of three numbers"
   ]
  },
  {
   "cell_type": "code",
   "execution_count": 32,
   "id": "f8aab7c5",
   "metadata": {},
   "outputs": [
    {
     "name": "stdout",
     "output_type": "stream",
     "text": [
      "b is greatest\n"
     ]
    }
   ],
   "source": [
    "a,b,c=3,4,2\n",
    "if a>b and a>c:\n",
    "    print(\"a is greatest\")\n",
    "elif b>a and b>c:\n",
    "    print(\"b is greatest\")\n",
    "else:\n",
    "    print(\"c is greatest\")"
   ]
  },
  {
   "cell_type": "markdown",
   "id": "58502001",
   "metadata": {},
   "source": [
    "Find the second biggest of 4 numbers"
   ]
  },
  {
   "cell_type": "code",
   "execution_count": null,
   "id": "5e636156",
   "metadata": {},
   "outputs": [],
   "source": [
    "a,b,c,d=1,2,3,0\n",
    "if a>b and a>c and a>d:\n",
    "    k=a\n",
    "elif b>a and b>c and b>d:\n",
    "    k=b\n",
    "elif c>a and c>b and c>d:    \n",
    "    k=c\n",
    "else:\n",
    "    k=d\n",
    "if a>b and a>c:\n",
    "    print(\"a is greatest\")\n",
    "elif b>a and b>c:\n",
    "    print(\"b is greatest\")\n",
    "else:\n",
    "    print(\"c is greatest\")    "
   ]
  },
  {
   "cell_type": "markdown",
   "id": "3922c68f",
   "metadata": {},
   "source": [
    "Print no.of of even and odd numbers and sum of odd numbers and even numbers"
   ]
  },
  {
   "cell_type": "code",
   "execution_count": 44,
   "id": "32e0c31c",
   "metadata": {},
   "outputs": [
    {
     "name": "stdout",
     "output_type": "stream",
     "text": [
      "Enter n 5\n",
      "Even numbers are:\n",
      "0\n",
      "2\n",
      "4\n",
      "Even number sum is 6\n",
      "Odd numbers are:\n",
      "1\n",
      "3\n",
      "Odd number sum is 4\n"
     ]
    }
   ],
   "source": [
    "n=int(input(\"Enter n \"))\n",
    "es=0\n",
    "print(\"Even numbers are:\")\n",
    "for i in range(n):\n",
    "    if(i%2==0):\n",
    "        print(i)\n",
    "        es+=i\n",
    "print(\"Even number sum is\",es)\n",
    "os=0\n",
    "print(\"Odd numbers are:\")\n",
    "for i in range(n):\n",
    "    if(i%2):\n",
    "        print(i)\n",
    "        os+=i\n",
    "print(\"Odd number sum is\",os)        "
   ]
  },
  {
   "cell_type": "markdown",
   "id": "f2ccd858",
   "metadata": {},
   "source": [
    "Write a program to reverse a number using while loop"
   ]
  },
  {
   "cell_type": "code",
   "execution_count": 37,
   "id": "1b7e09eb",
   "metadata": {},
   "outputs": [
    {
     "name": "stdout",
     "output_type": "stream",
     "text": [
      "Enter a value 345\n",
      "543\n"
     ]
    }
   ],
   "source": [
    "a=int(input(\"Enter a value \"))\n",
    "n=a\n",
    "rev=0\n",
    "while n:\n",
    "    r=n%10\n",
    "    rev=rev*10+r    \n",
    "    n=n//10\n",
    "print(rev)    "
   ]
  },
  {
   "cell_type": "code",
   "execution_count": null,
   "id": "0d20cb92",
   "metadata": {},
   "outputs": [],
   "source": []
  }
 ],
 "metadata": {
  "kernelspec": {
   "display_name": "Python 3 (ipykernel)",
   "language": "python",
   "name": "python3"
  },
  "language_info": {
   "codemirror_mode": {
    "name": "ipython",
    "version": 3
   },
   "file_extension": ".py",
   "mimetype": "text/x-python",
   "name": "python",
   "nbconvert_exporter": "python",
   "pygments_lexer": "ipython3",
   "version": "3.9.7"
  }
 },
 "nbformat": 4,
 "nbformat_minor": 5
}
