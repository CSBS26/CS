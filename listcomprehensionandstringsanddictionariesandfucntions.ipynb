{
 "cells": [
  {
   "cell_type": "markdown",
   "id": "d16f9474",
   "metadata": {},
   "source": [
    "Find if a number is composite or not using functions"
   ]
  },
  {
   "cell_type": "code",
   "execution_count": 6,
   "id": "2393c190",
   "metadata": {},
   "outputs": [
    {
     "name": "stdout",
     "output_type": "stream",
     "text": [
      "Enter a value 5\n",
      "5 is not a composite number since it has only 1 factor\n"
     ]
    }
   ],
   "source": [
    "def composite(a):\n",
    "    for i in range(2,a):\n",
    "        if(a%i==0):\n",
    "            print(a,\"is a composite number since it has more than 1 factors\")\n",
    "            break\n",
    "    else:  \n",
    "        print(a,\"is not a composite number since it has only 1 factor\")\n",
    "a=int(input(\"Enter a value \"))\n",
    "composite(a)"
   ]
  },
  {
   "cell_type": "markdown",
   "id": "caa17e04",
   "metadata": {},
   "source": [
    "List all the automorphic numbers in a given range"
   ]
  },
  {
   "cell_type": "code",
   "execution_count": 15,
   "id": "2bd0ce12",
   "metadata": {},
   "outputs": [
    {
     "name": "stdout",
     "output_type": "stream",
     "text": [
      "The automorphic numbers are\n",
      "[0, 1, 5, 6, 25, 76]\n"
     ]
    }
   ],
   "source": [
    "def automorphic(a):\n",
    "    li=[]\n",
    "    for i in range(a):\n",
    "        k,n=0,i\n",
    "        while(n):\n",
    "            n//=10\n",
    "            k+=1\n",
    "        if(i*i%pow(10,k)==i):\n",
    "            li.append(i)\n",
    "    return li    \n",
    "a=int(input(\"Enter a range \"))   \n",
    "print(\"The automorphic numbers are\")\n",
    "print(automorphic(a))"
   ]
  },
  {
   "cell_type": "markdown",
   "id": "5d178ba7",
   "metadata": {},
   "source": [
    "Find if the given number is neon number or not"
   ]
  },
  {
   "cell_type": "code",
   "execution_count": 17,
   "id": "72151832",
   "metadata": {},
   "outputs": [
    {
     "name": "stdout",
     "output_type": "stream",
     "text": [
      "9 is a neon number\n"
     ]
    }
   ],
   "source": [
    "def neon(a):\n",
    "    n,suma=a*a,0\n",
    "    while(n):\n",
    "        suma+=(n%10)\n",
    "        n//=10\n",
    "    if(suma==a):\n",
    "        print(a,\"is a neon number\")\n",
    "    else:    \n",
    "        print(a,\"is not a neon number\")\n",
    "a=int(input(\"Enter a value \"))\n",
    "neon(a)"
   ]
  },
  {
   "cell_type": "markdown",
   "id": "4152552a",
   "metadata": {},
   "source": [
    "Find if a given number is spy or not"
   ]
  },
  {
   "cell_type": "code",
   "execution_count": 19,
   "id": "0580fcc1",
   "metadata": {},
   "outputs": [
    {
     "name": "stdout",
     "output_type": "stream",
     "text": [
      "123 is a spy number\n"
     ]
    }
   ],
   "source": [
    "def spy(a):\n",
    "    suma,prod,n=0,1,a\n",
    "    while(n):\n",
    "        k=n%10\n",
    "        suma+=k\n",
    "        prod*=k\n",
    "        n//=10\n",
    "    if(suma==prod):\n",
    "        print(a,\"is a spy number\")\n",
    "    else:\n",
    "        print(a,\"is not a spy number\")\n",
    "a=int(input(\"Enter a value \"))\n",
    "spy(a)"
   ]
  },
  {
   "cell_type": "markdown",
   "id": "748bed2e",
   "metadata": {},
   "source": [
    "Find squares using list comprehension"
   ]
  },
  {
   "cell_type": "code",
   "execution_count": 19,
   "id": "8844a0c1",
   "metadata": {},
   "outputs": [
    {
     "name": "stdout",
     "output_type": "stream",
     "text": [
      "Enter a value 9\n",
      "The squares in the given range are\n",
      "[0, 1, 4, 9, 16, 25, 36, 49, 64]\n"
     ]
    }
   ],
   "source": [
    "a=int(input(\"Enter a value \"))\n",
    "li=[i*i for i in range(a)]\n",
    "print(\"The squares in the given range are\")\n",
    "print(li)"
   ]
  },
  {
   "cell_type": "markdown",
   "id": "d0feb52e",
   "metadata": {},
   "source": [
    "Find cubes using list comprehension"
   ]
  },
  {
   "cell_type": "code",
   "execution_count": 20,
   "id": "5181a40c",
   "metadata": {},
   "outputs": [
    {
     "name": "stdout",
     "output_type": "stream",
     "text": [
      "Enter a value 9\n",
      "The cubes in the given range are\n",
      "[0, 1, 8, 27, 64, 125, 216, 343, 512]\n"
     ]
    }
   ],
   "source": [
    "a=int(input(\"Enter a value \"))\n",
    "li=[i*i*i for i in range(a)]\n",
    "print(\"The cubes in the given range are\")\n",
    "print(li)"
   ]
  },
  {
   "cell_type": "markdown",
   "id": "aa4fe5d8",
   "metadata": {},
   "source": [
    "Add 10 to the numbers which are greater than 50 in the list"
   ]
  },
  {
   "cell_type": "code",
   "execution_count": 42,
   "id": "179bacc6",
   "metadata": {},
   "outputs": [
    {
     "name": "stdout",
     "output_type": "stream",
     "text": [
      "[66, 67, 100, 97, 75, 88]\n"
     ]
    }
   ],
   "source": [
    "a=[1,56,43,57,90,87,34,65,78,23]\n",
    "li=[i+10 for i in a if i>50]\n",
    "print(li)"
   ]
  },
  {
   "cell_type": "markdown",
   "id": "58477b93",
   "metadata": {},
   "source": [
    "Explore the dictionary datatype"
   ]
  },
  {
   "cell_type": "code",
   "execution_count": 12,
   "id": "eda5feac",
   "metadata": {},
   "outputs": [
    {
     "name": "stdout",
     "output_type": "stream",
     "text": [
      "3237\n",
      "dict_items([('roll', 3237), ('name', 'Thoran'), ('branch', 'CSBS')])\n",
      "dict_keys(['roll', 'name', 'branch'])\n",
      "{'roll': 3237, 'branch': 'CSBS'}\n",
      "{'roll': 3237}\n",
      "{'roll': 3237, 'name': 'Thoran'}\n",
      "{'roll': 37, 'name': 'Thoran', 'cgpa': 9.65}\n",
      "dict_values([37, 'Thoran', 9.65])\n"
     ]
    }
   ],
   "source": [
    "di={\"roll\":3237, \"name\":\"Thoran\", \"branch\":\"CSBS\"}\n",
    "print(di.get(\"roll\"))\n",
    "print(di.items())\n",
    "print(di.keys())\n",
    "di.pop(\"name\")\n",
    "print(di)\n",
    "di.popitem()\n",
    "print(di)\n",
    "di.setdefault(\"name\",\"Thoran\")\n",
    "print(di)\n",
    "di.update({\"cgpa\":9.65})\n",
    "di.update({\"roll\":37})\n",
    "print(di)\n",
    "print(di.values())"
   ]
  },
  {
   "cell_type": "markdown",
   "id": "3f140a20",
   "metadata": {},
   "source": [
    "Explore the strings"
   ]
  },
  {
   "cell_type": "code",
   "execution_count": 14,
   "id": "81fd5011",
   "metadata": {},
   "outputs": [
    {
     "name": "stdout",
     "output_type": "stream",
     "text": [
      "Hello\n",
      "  hello   \n",
      "2\n",
      "HELLO\n",
      "wello\n",
      "True\n",
      "1\n",
      "['he', '', 'o']\n"
     ]
    }
   ],
   "source": [
    "a='hello'\n",
    "print(a.capitalize())\n",
    "print(a.center(10))\n",
    "print(a.count('l'))\n",
    "print(a.upper())\n",
    "print(a.replace('h','w'))\n",
    "print(a.endswith('o'))\n",
    "print(a.find('e'))\n",
    "print(a.split('l'))"
   ]
  },
  {
   "cell_type": "markdown",
   "id": "b4b548eb",
   "metadata": {},
   "source": [
    "Take a list as input and print the length of each word in the list"
   ]
  },
  {
   "cell_type": "code",
   "execution_count": 46,
   "id": "8e0d8e0a",
   "metadata": {},
   "outputs": [
    {
     "name": "stdout",
     "output_type": "stream",
     "text": [
      "Enter a list one,two,three four,five\n",
      "[3, 3, 10, 4]\n"
     ]
    }
   ],
   "source": [
    "a=input(\"Enter a list \").split(\",\")\n",
    "li=[len(i) for i in a]\n",
    "print(li)"
   ]
  },
  {
   "cell_type": "markdown",
   "id": "500b791c",
   "metadata": {},
   "source": [
    "Take a string as input and list the length of each word"
   ]
  },
  {
   "cell_type": "code",
   "execution_count": 2,
   "id": "669e97e2",
   "metadata": {},
   "outputs": [
    {
     "name": "stdout",
     "output_type": "stream",
     "text": [
      "{'This': 4, 'is': 2, 'CS': 2, 'Lab': 3}\n"
     ]
    }
   ],
   "source": [
    "a=input(\"Enter a string \").split()\n",
    "dic={}\n",
    "for i in a:\n",
    "  dic.update({i:len(i)})\n",
    "print(dic)  "
   ]
  }
 ],
 "metadata": {
  "kernelspec": {
   "display_name": "Python 3 (ipykernel)",
   "language": "python",
   "name": "python3"
  },
  "language_info": {
   "codemirror_mode": {
    "name": "ipython",
    "version": 3
   },
   "file_extension": ".py",
   "mimetype": "text/x-python",
   "name": "python",
   "nbconvert_exporter": "python",
   "pygments_lexer": "ipython3",
   "version": "3.11.6"
  }
 },
 "nbformat": 4,
 "nbformat_minor": 5
}
