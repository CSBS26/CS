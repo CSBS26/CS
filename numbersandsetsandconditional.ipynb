{
 "cells": [
  {
   "cell_type": "markdown",
   "id": "80f1b813",
   "metadata": {},
   "source": [
    "Write an application that asks a user to enter an integer. Display a statement that indicates whether the integer is even or odd."
   ]
  },
  {
   "cell_type": "code",
   "execution_count": 1,
   "id": "fe4213bc",
   "metadata": {},
   "outputs": [
    {
     "name": "stdout",
     "output_type": "stream",
     "text": [
      "Enter a number 5421\n",
      "5421 is an odd number\n"
     ]
    }
   ],
   "source": [
    "a=int(input(\"Enter a number \"))\n",
    "if a%2==0:\n",
    "    print(a,\"is an even number\")\n",
    "else:\n",
    "    print(a, \"is an odd number\")"
   ]
  },
  {
   "cell_type": "markdown",
   "id": "fa2aad35",
   "metadata": {},
   "source": [
    "Write an application that asks a user to enter three integers. Display them in\n",
    "ascending and descending order."
   ]
  },
  {
   "cell_type": "code",
   "execution_count": 4,
   "id": "16bbe96a",
   "metadata": {},
   "outputs": [
    {
     "name": "stdout",
     "output_type": "stream",
     "text": [
      "Descending  4 2 1\n",
      "Ascending  1 2 4\n"
     ]
    }
   ],
   "source": [
    "a,b,c=int(input(\"Enter \")),int(input(\"Enter \")),int(input(\"Enter \"))\n",
    "if a>b and a>c:\n",
    "  if b>c:\n",
    "    x,y,z=a,b,c  \n",
    "  else:\n",
    "    x,y,z=a,c,b   \n",
    "elif b>a and b>c:\n",
    "  if a>c:\n",
    "    x,y,z=b,a,c     \n",
    "  else:\n",
    "    x,y,z=b,c,a  \n",
    "else:\n",
    "  if a>b:\n",
    "    x,y,z=c,a,b     \n",
    "  else:\n",
    "    x,y,z=c,b,a    \n",
    "print(\"Descending \",x,y,z)\n",
    "print(\"Ascending \",z,y,x)    "
   ]
  },
  {
   "cell_type": "markdown",
   "id": "aa0ed087",
   "metadata": {},
   "source": [
    "Write a program for Horizon Phones, a provider of cellular phone service.\n",
    "Prompt a user for maximum monthly values for talk minutes used, text messages\n",
    "sent, and gigabytes of data used, and then recommend the best plan for the\n",
    "customer’s needs. A customer who needs fewer than 500 minutes of talk and no\n",
    "text or data should accept Plan A at $49 per month. A customer who needs fewer\n",
    "than 500 minutes of talk and any text messages should accept Plan B at $55 per\n",
    "month. A customer who needs 500 or more minutes of talk and no data should\n",
    "accept either Plan C for up to 100 text messages at $61 per month or Plan D for 100 text messages or more at $70 per month. A customer who needs any data\n",
    "should accept Plan E for up to 3 gigabytes at $79 or Plan F for 3 gigabytes or more at $87."
   ]
  },
  {
   "cell_type": "code",
   "execution_count": 6,
   "id": "249ad1fb",
   "metadata": {},
   "outputs": [
    {
     "name": "stdout",
     "output_type": "stream",
     "text": [
      "Enter minutes talked 501\n",
      "Enter no.of text messages 101\n",
      "Enter GB of data used 2\n",
      "Please take Plan E for $79\n"
     ]
    }
   ],
   "source": [
    "a=int(input(\"Enter minutes talked \"))\n",
    "b=int(input(\"Enter no.of text messages \"))\n",
    "c=int(input(\"Enter GB of data used \"))\n",
    "if a<500 and b==0 and c==0:\n",
    "    print(\"Please take Plan A for $49\")\n",
    "elif a<500 and b!=0:    \n",
    "    print(\"Please take Plan B for $55\")\n",
    "elif a>=500 and c==0:\n",
    "    if b<100:\n",
    "        print(\"Please take Plan C for $61\")\n",
    "    else:\n",
    "        print(\"Please take Plan D for $70\")\n",
    "elif c<3:\n",
    "    print(\"Please take Plan E for $79\")\n",
    "elif c>=3:\n",
    "    print(\"Please take Plan F for $87\")"
   ]
  },
  {
   "cell_type": "markdown",
   "id": "57ec9450",
   "metadata": {},
   "source": [
    "Write an application that prompts a user for a month, day, and year. Display\n",
    "a message that specifies whether the entered date is (1) not this year, (2) in an earlier month this year, (3) in a later month this year, or (4) this month."
   ]
  },
  {
   "cell_type": "code",
   "execution_count": 5,
   "id": "dfb3c2ea",
   "metadata": {},
   "outputs": [
    {
     "name": "stdout",
     "output_type": "stream",
     "text": [
      "Enter month 2\n",
      "Enter day 23\n",
      "Enter year 2023\n",
      "The given date is in an earlier month this year\n"
     ]
    }
   ],
   "source": [
    "a,b,c=int(input(\"Enter month \")),int(input(\"Enter day \")),int(input(\"Enter year \"))\n",
    "if c!=2023:\n",
    "    print(\"The date is not this year\")\n",
    "elif a<9:\n",
    "    print(\"The given date is in an earlier month this year\")\n",
    "elif a>9:    \n",
    "    print(\"The given date is in a later month this year\")\n",
    "else:\n",
    "    print(\"The given date is in this month\")"
   ]
  },
  {
   "cell_type": "markdown",
   "id": "f11951b8",
   "metadata": {},
   "source": [
    "Write an application for the Shady Rest Hotel; the program determines the\n",
    "price of a room. Ask the user to choose 1 for a queen bed, 2 for a king, or 3 for a king and a pullout couch. The output echoes the input and displays the price of the room: $125 for queen, $139 for king, and $165 for suite with king bed and a pullout couch. If the user enters an invalid code, display an appropriate message and set the price to 0."
   ]
  },
  {
   "cell_type": "code",
   "execution_count": 2,
   "id": "62be4d5f",
   "metadata": {},
   "outputs": [
    {
     "name": "stdout",
     "output_type": "stream",
     "text": [
      "Select 1.Queen bed 2.King 3.King and couch3\n",
      "You have selected a King Bed a Pullout Couch\n",
      "The price of the roon is $165\n"
     ]
    }
   ],
   "source": [
    "a=int(input(\"Select 1.Queen bed 2.King 3.King and couch\"))\n",
    "if a==1:\n",
    "    print(\"You have selected a Queen Bed\")\n",
    "    print(\"The price of the roon is $125\")\n",
    "elif a==2:\n",
    "    print(\"You have selected a King Bed\")\n",
    "    print(\"The price of the roon is $139\")\n",
    "elif a==3:\n",
    "    print(\"You have selected a King Bed a Pullout Couch\")\n",
    "    print(\"The price of the roon is $165\")\n",
    "else:\n",
    "    print(\"It is an invalid choice\")"
   ]
  },
  {
   "cell_type": "markdown",
   "id": "f0b5dff6",
   "metadata": {},
   "source": [
    "Write a Python program to create a Simple Set, Set with Constructor, Empty Set, Set from List, Set from Tuple."
   ]
  },
  {
   "cell_type": "code",
   "execution_count": 19,
   "id": "ecd19afe",
   "metadata": {},
   "outputs": [
    {
     "name": "stdout",
     "output_type": "stream",
     "text": [
      "<class 'set'> \n",
      "\n",
      "{0, 1, 2, 3, 4}\n",
      "{'4', '1', '3', '2'} \n",
      "\n",
      "set()\n",
      "<class 'set'> \n",
      "\n",
      "{1, 2, 3, 4} \n",
      "\n",
      "{1, 2, 3, 4}\n"
     ]
    }
   ],
   "source": [
    "#Simple set\n",
    "pr={1,2,1,3,4,2}\n",
    "print(type(pr),\"\\n\")\n",
    "#Set with constructor\n",
    "pr=set('121342')\n",
    "n = set([0, 1, 2, 3, 4])\n",
    "print(n)\n",
    "print(pr,\"\\n\")\n",
    "#Empty set\n",
    "pr=set()\n",
    "print(pr)\n",
    "print(type(pr),\"\\n\")\n",
    "#Set from list\n",
    "list1=[1,2,1,3,4,2]\n",
    "pr=set(list1)\n",
    "print(pr,\"\\n\")\n",
    "#Set from tuple\n",
    "tuple1=(1,2,1,3,4,2)\n",
    "pr=set(tuple1)\n",
    "print(pr)"
   ]
  },
  {
   "cell_type": "markdown",
   "id": "64ae7fd0",
   "metadata": {},
   "source": [
    "Write a Python Program to iterate over set."
   ]
  },
  {
   "cell_type": "code",
   "execution_count": 53,
   "id": "41d94606",
   "metadata": {},
   "outputs": [
    {
     "name": "stdout",
     "output_type": "stream",
     "text": [
      "1 2 3 5 "
     ]
    }
   ],
   "source": [
    "a=set([1,2,3,5,2])\n",
    "for i in a:\n",
    "    print(i,end=' ')"
   ]
  }
 ],
 "metadata": {
  "kernelspec": {
   "display_name": "Python 3 (ipykernel)",
   "language": "python",
   "name": "python3"
  },
  "language_info": {
   "codemirror_mode": {
    "name": "ipython",
    "version": 3
   },
   "file_extension": ".py",
   "mimetype": "text/x-python",
   "name": "python",
   "nbconvert_exporter": "python",
   "pygments_lexer": "ipython3",
   "version": "3.11.5"
  }
 },
 "nbformat": 4,
 "nbformat_minor": 5
}
