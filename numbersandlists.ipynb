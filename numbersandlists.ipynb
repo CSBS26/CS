{
 "cells": [
  {
   "cell_type": "markdown",
   "id": "7e8ddce3",
   "metadata": {},
   "source": [
    "Find if the number is Deficient Number or not.\n",
    "Deficient Number: Sum of factors is less than the number itself."
   ]
  },
  {
   "cell_type": "code",
   "execution_count": null,
   "id": "3aebe428",
   "metadata": {},
   "outputs": [
    {
     "name": "stdout",
     "output_type": "stream",
     "text": [
      "Enter a value 21\n",
      "The factors of 21 are\n",
      "1\n",
      "3\n",
      "7\n",
      "21 is a deficient number.(sum of factors) 11 is less than 21\n"
     ]
    }
   ],
   "source": [
    "a=int(input(\"Enter a value \"))\n",
    "suma=0\n",
    "print(\"The factors of\",a,\"are\")\n",
    "for i in range(1,a):\n",
    "    if(a%i==0):\n",
    "        suma+=i\n",
    "        print(i)\n",
    "if(suma<a):\n",
    "    print(a,\"is a deficient number.(sum of factors)\",suma,\"is less than\",a)\n",
    "else:\n",
    "    print(a,\"is not a deficient number.(sum of factors)\",suma,\"is not less than\",a)"
   ]
  },
  {
   "cell_type": "markdown",
   "id": "2c4ae5a2",
   "metadata": {},
   "source": [
    "Find if number is a Composite number. It is a number which has more that one factor."
   ]
  },
  {
   "cell_type": "code",
   "execution_count": 32,
   "id": "f2e62d3a",
   "metadata": {},
   "outputs": [
    {
     "name": "stdout",
     "output_type": "stream",
     "text": [
      "Enter a value 5\n",
      "5 is not a composite number since it has only 1 factor 4\n"
     ]
    }
   ],
   "source": [
    "a=int(input(\"Enter a value \"))\n",
    "for i in range(2,a):\n",
    "    if(a%i==0):\n",
    "        print(a,\"is a composite number since it has more than 1 factors\")\n",
    "        break    \n",
    "else:  \n",
    "    print(a,\"is not a composite number since it has only 1 factor\")"
   ]
  },
  {
   "cell_type": "markdown",
   "id": "ef1ce170",
   "metadata": {},
   "source": [
    "Find if given number is a Abundant number or not.\n",
    "Abundant number: sum of factor is greater then the number itself."
   ]
  },
  {
   "cell_type": "code",
   "execution_count": 36,
   "id": "2920508a",
   "metadata": {},
   "outputs": [
    {
     "name": "stdout",
     "output_type": "stream",
     "text": [
      "Enter a value 12\n",
      "The factors of 12 are\n",
      "1\n",
      "2\n",
      "3\n",
      "4\n",
      "6\n",
      "12 is an abundant number.(sum of factors) 16 is greater than 12\n"
     ]
    }
   ],
   "source": [
    "a=int(input(\"Enter a value \"))\n",
    "suma=0\n",
    "print(\"The factors of\",a,\"are\")\n",
    "for i in range(1,a):\n",
    "    if(a%i==0):\n",
    "        suma+=i\n",
    "        print(i)\n",
    "if(suma>a):\n",
    "    print(a,\"is an abundant number.(sum of factors)\",suma,\"is greater than\",a)\n",
    "else:\n",
    "    print(a,\"is not an abundant number.(sum of factors)\",suma,\"is not greater than\",a)"
   ]
  },
  {
   "cell_type": "markdown",
   "id": "273d7290",
   "metadata": {},
   "source": [
    "Find if a given number is Pronic number or not.\n",
    "Pronic Number: it is the product of two consecutive integers."
   ]
  },
  {
   "cell_type": "code",
   "execution_count": 34,
   "id": "e2d077f1",
   "metadata": {},
   "outputs": [
    {
     "name": "stdout",
     "output_type": "stream",
     "text": [
      "Enter a value 56\n",
      "56 is a pronic number.It is product of 7 and 8\n"
     ]
    }
   ],
   "source": [
    "a=int(input(\"Enter a value \"))\n",
    "for i in range(2,a):\n",
    "    if(a%i==0 and a%(i+1)==0):\n",
    "        print(a,\"is a pronic number.It is product of\",i,\"and\",i+1)\n",
    "        break\n",
    "else:\n",
    "    print(a,\"is not a pronic number\")"
   ]
  },
  {
   "cell_type": "markdown",
   "id": "caf93d67",
   "metadata": {},
   "source": [
    "Accept a number from user and print if given number is Automorphic number or not.\n",
    "Automorphic number: An Automorphic number is a number which is contained in the last digit(s) of its square."
   ]
  },
  {
   "cell_type": "code",
   "execution_count": 42,
   "id": "95738329",
   "metadata": {},
   "outputs": [
    {
     "name": "stdout",
     "output_type": "stream",
     "text": [
      "Enter a value376\n",
      "376 is automorphic number. It's square is 141376\n"
     ]
    }
   ],
   "source": [
    "a=int(input(\"Enter a value \"))\n",
    "k,n=0,a\n",
    "while(n):\n",
    "    n//=10\n",
    "    k+=1\n",
    "if((a*a)%pow(10,k)==a):\n",
    "    print(a,\"is automorphic number. It's square is\",a*a)\n",
    "else:\n",
    "    print(a,\"is not an automorphic number\")"
   ]
  },
  {
   "cell_type": "markdown",
   "id": "63ef82b1",
   "metadata": {},
   "source": [
    "Write Accept a number from user and print if given number is Krishnamurthy special number or not.\n",
    "KN Special number: A special number is a number whose sum of factorial of digits is equal to the number"
   ]
  },
  {
   "cell_type": "code",
   "execution_count": 5,
   "id": "68843a41",
   "metadata": {},
   "outputs": [
    {
     "name": "stdout",
     "output_type": "stream",
     "text": [
      "Enter a value 146\n",
      "720\n",
      "24\n",
      "1\n",
      "146 is not a KN number since sum of above number is not equal to 146\n"
     ]
    }
   ],
   "source": [
    "a=int(input(\"Enter a value \"))\n",
    "n,suma=a,0\n",
    "while(n):\n",
    "    k=n%10\n",
    "    r=1\n",
    "    for i in range(1,k+1):\n",
    "        r*=i\n",
    "    suma+=r  \n",
    "    n//=10\n",
    "    print(r)\n",
    "if(suma==a):\n",
    "    print(a,\"is a KN number since sum of above number is equal to\",a)\n",
    "else:\n",
    "    print(a,\"is not a KN number since sum of above number is not equal to\",a)"
   ]
  },
  {
   "cell_type": "markdown",
   "id": "b0a85097",
   "metadata": {},
   "source": [
    "Accept a number from user and print if given number is Neon number or not.\n",
    "Neon number: Sum of digits of square of the number is equal to the number ."
   ]
  },
  {
   "cell_type": "code",
   "execution_count": 10,
   "id": "0ca14d7c",
   "metadata": {},
   "outputs": [
    {
     "name": "stdout",
     "output_type": "stream",
     "text": [
      "Enter a value 9\n",
      "The digits in (square) 81 are\n",
      "1\n",
      "8\n",
      "9 is a neon number since it is sum of above number\n"
     ]
    }
   ],
   "source": [
    "a=int(input(\"Enter a value \"))\n",
    "n,suma=a*a,0\n",
    "print(\"The digits in (square)\",n,\"are\")\n",
    "while(n):\n",
    "    suma+=(n%10)\n",
    "    print(n%10)\n",
    "    n//=10\n",
    "if(suma==a):\n",
    "    print(a,\"is a neon number since it is sum of above number\")\n",
    "else:    \n",
    "    print(a,\"is not a neon number since it is not sum of above number\")"
   ]
  },
  {
   "cell_type": "markdown",
   "id": "6e78205e",
   "metadata": {},
   "source": [
    "Accept a number from user and print if given number is duck number or not.\n",
    "Duck number: A Duck number is a number which has zeroes present in it."
   ]
  },
  {
   "cell_type": "code",
   "execution_count": 15,
   "id": "694fd5aa",
   "metadata": {},
   "outputs": [
    {
     "name": "stdout",
     "output_type": "stream",
     "text": [
      "Enter a value 444\n",
      "The digits in 444 are\n",
      "4\n",
      "4\n",
      "4\n",
      "444 is not a duck number since it doesn't have a zero\n"
     ]
    }
   ],
   "source": [
    "a=int(input(\"Enter a value \"))\n",
    "n=a\n",
    "print(\"The digits in\",a,\"are\")\n",
    "flag=True\n",
    "while(a):\n",
    "    k=a%10\n",
    "    print(k)\n",
    "    if(k==0):\n",
    "        print(n,\"is a duck number since above digit is 0\")\n",
    "        flag=False\n",
    "        break\n",
    "    a//=10    \n",
    "if(flag):\n",
    "    print(n,\"is not a duck number since it doesn't have a zero\")"
   ]
  },
  {
   "cell_type": "markdown",
   "id": "d6830889",
   "metadata": {},
   "source": [
    "Accept a number from user and print if given number is spy number or not.\n",
    "spy number: A spy number is a number which has sum its digits equals the product of the digits."
   ]
  },
  {
   "cell_type": "code",
   "execution_count": 17,
   "id": "547cb633",
   "metadata": {},
   "outputs": [
    {
     "name": "stdout",
     "output_type": "stream",
     "text": [
      "Enter a value 124\n",
      "124 is not a spy number since 7 is not equal to 8\n"
     ]
    }
   ],
   "source": [
    "a=int(input(\"Enter a value \"))\n",
    "suma,prod,n=0,1,a\n",
    "while(n):\n",
    "    k=n%10\n",
    "    suma+=k\n",
    "    prod*=k\n",
    "    n//=10\n",
    "if(suma==prod):\n",
    "    print(a,\"is a spy number since\",suma,\"is equal to\",prod)\n",
    "else:\n",
    "    print(a,\"is not a spy number since\",suma,\"is not equal to\",prod)"
   ]
  },
  {
   "cell_type": "markdown",
   "id": "5f86e93e",
   "metadata": {},
   "source": [
    "Accept a number from user and print if given number is special number or not.\n",
    "Special number: A special number is a number whose Sum of digits plus product of digits it is equal to original number."
   ]
  },
  {
   "cell_type": "code",
   "execution_count": 18,
   "id": "60b60386",
   "metadata": {},
   "outputs": [
    {
     "name": "stdout",
     "output_type": "stream",
     "text": [
      "Enter a value 59\n",
      "59 is a special number since 59 is equal to 59\n"
     ]
    }
   ],
   "source": [
    "a=int(input(\"Enter a value \"))\n",
    "suma,prod,n=0,1,a\n",
    "while(n):\n",
    "    k=n%10\n",
    "    suma+=k\n",
    "    prod*=k\n",
    "    n//=10\n",
    "if(suma+prod==a):\n",
    "    print(a,\"is a special number since sum+prod\",suma+prod,\"is equal to\",a)\n",
    "else:\n",
    "    print(a,\"is not a special number since sum+prod\",suma+prod,\"is not equal to\",a)"
   ]
  },
  {
   "cell_type": "markdown",
   "id": "f92c15c3",
   "metadata": {},
   "source": [
    "Write a Python program to remove duplicates from a list."
   ]
  },
  {
   "cell_type": "code",
   "execution_count": 1,
   "id": "7e2fddc7",
   "metadata": {},
   "outputs": [
    {
     "name": "stdout",
     "output_type": "stream",
     "text": [
      "The list after removing duplicates is [1, 2, 3, 4]\n"
     ]
    }
   ],
   "source": [
    "li=[1,2,3,4,1,2,3,4]\n",
    "uni=[]\n",
    "for i in li:\n",
    "  if i not in uni:\n",
    "    uni.append(i)\n",
    "print(\"The list after removing duplicates is\",uni)"
   ]
  },
  {
   "cell_type": "markdown",
   "id": "c3583019",
   "metadata": {},
   "source": [
    "Write a Python function that takes a list of words and returns the longest one."
   ]
  },
  {
   "cell_type": "code",
   "execution_count": 4,
   "id": "430b9c5c",
   "metadata": {},
   "outputs": [
    {
     "name": "stdout",
     "output_type": "stream",
     "text": [
      "The longest word is abcd\n"
     ]
    }
   ],
   "source": [
    "words=input(\"Enter a list of words\").split()\n",
    "a=words[0]\n",
    "for i in words:\n",
    "  if len(i)>len(a):\n",
    "    a=i\n",
    "print(\"The longest word is\",a)    "
   ]
  },
  {
   "cell_type": "markdown",
   "id": "2cad2212",
   "metadata": {},
   "source": [
    "Write a Python program to remove and print every third number from a list of numbers until\n",
    "the list becomes empty."
   ]
  },
  {
   "cell_type": "code",
   "execution_count": 35,
   "id": "e48a3342",
   "metadata": {},
   "outputs": [
    {
     "name": "stdout",
     "output_type": "stream",
     "text": [
      "Every third number after removing them\n",
      "3 6 9 1 5 10 2 8 4 7 "
     ]
    }
   ],
   "source": [
    "li=[1,2,3,4,5,6,7,8,9,10]\n",
    "print(\"Every third number after removing them\")\n",
    "i=2\n",
    "while len(li)!=0:\n",
    "  if i<len(li):\n",
    "    print(li[i],end=\" \")\n",
    "    li.pop(i)   \n",
    "    i+=2\n",
    "  else:\n",
    "    i=0"
   ]
  },
  {
   "cell_type": "markdown",
   "id": "562de075",
   "metadata": {},
   "source": [
    "Write a Python program to filter the positive numbers from a list."
   ]
  },
  {
   "cell_type": "code",
   "execution_count": 19,
   "id": "01b4929b",
   "metadata": {},
   "outputs": [
    {
     "name": "stdout",
     "output_type": "stream",
     "text": [
      "The positive numbers are\n",
      "1 2 3 4 4 "
     ]
    }
   ],
   "source": [
    "li=[1,-1,2,3,4,-4,-7,-10,4,-2]\n",
    "print(\"The positive numbers are\")\n",
    "for i in li:\n",
    "  if(i>0):\n",
    "    print(i,end=\" \")"
   ]
  },
  {
   "cell_type": "markdown",
   "id": "6e03ac44",
   "metadata": {},
   "source": [
    "Write a Python program to concatenate all elements in a list into a string."
   ]
  },
  {
   "cell_type": "code",
   "execution_count": 23,
   "id": "e11b62cc",
   "metadata": {},
   "outputs": [
    {
     "name": "stdout",
     "output_type": "stream",
     "text": [
      "Hello, World!\n",
      "Python\n"
     ]
    }
   ],
   "source": [
    "li=[\"Hello, \",\"World!\",\"\\nPython\"]\n",
    "str1=\"\"\n",
    "for i in li:\n",
    "  str1+=i\n",
    "print(str1)  "
   ]
  },
  {
   "cell_type": "markdown",
   "id": "1b293557",
   "metadata": {},
   "source": [
    "Write a Python program which accepts a sequence of comma-separated numbers from\n",
    "user and generate a list and a tuple with those numbers."
   ]
  },
  {
   "cell_type": "code",
   "execution_count": 36,
   "id": "2a55f0dc",
   "metadata": {},
   "outputs": [
    {
     "name": "stdout",
     "output_type": "stream",
     "text": [
      "List is [1, 2, 3, 4, 5]\n",
      "Tuple is (1, 2, 3, 4, 5)\n"
     ]
    }
   ],
   "source": [
    "a=input(\"Enter comma seperated integers\").split(\",\")\n",
    "li=[int(i) for i in a]\n",
    "tup=tuple(li)\n",
    "print(\"List is\",li)\n",
    "print(\"Tuple is\",tup)"
   ]
  },
  {
   "cell_type": "markdown",
   "id": "1254a1f7",
   "metadata": {},
   "source": [
    "Find if a number is prime number"
   ]
  },
  {
   "cell_type": "code",
   "execution_count": 39,
   "id": "a920b683",
   "metadata": {},
   "outputs": [
    {
     "name": "stdout",
     "output_type": "stream",
     "text": [
      "6 is not prime number since it has more than 2 factors\n"
     ]
    }
   ],
   "source": [
    "a=int(input(\"Enter a value\"))\n",
    "flag=1\n",
    "for i in range(2,a):\n",
    "  if a%i==0:\n",
    "    flag=0\n",
    "    break\n",
    "if(flag==0):\n",
    "  print(a,\"is not prime number since it has more than 2 factors\")\n",
    "else:\n",
    "  print(a,\"is a prime number since it has only 2 factors\")  "
   ]
  },
  {
   "cell_type": "markdown",
   "id": "78c139ba",
   "metadata": {},
   "source": [
    "Find if a number is a perfect number. A perfect number is number which is equal to sum of\n",
    "its divisor or factor except itself "
   ]
  },
  {
   "cell_type": "code",
   "execution_count": 52,
   "id": "40a9223d",
   "metadata": {},
   "outputs": [
    {
     "name": "stdout",
     "output_type": "stream",
     "text": [
      "28 is a perfect number since 28 == 28\n"
     ]
    }
   ],
   "source": [
    "a=int(input(\"Enter a value\"))\n",
    "fact=0\n",
    "for i in range(1,a):\n",
    "  if a%i==0:\n",
    "    fact+=i\n",
    "if(fact==a):\n",
    "  print(a,\"is a perfect number since\",fact,\"==\",a)\n",
    "else:      \n",
    "  print(a,\"is not a perfect number since\",fact,\"!=\",a)    "
   ]
  },
  {
   "cell_type": "markdown",
   "id": "cae8c11f",
   "metadata": {},
   "source": [
    "Find the unique element in the list using XOR."
   ]
  },
  {
   "cell_type": "code",
   "execution_count": 48,
   "id": "d03f96c2",
   "metadata": {},
   "outputs": [
    {
     "name": "stdout",
     "output_type": "stream",
     "text": [
      "Uniue element is 6\n"
     ]
    }
   ],
   "source": [
    "li=[1,2,3,3,2,1,4,4,6]\n",
    "a=0\n",
    "for i in li:\n",
    "  a^=i\n",
    "if(a==0 and 0 not in li):  \n",
    "  print(\"There is no unique element\")\n",
    "else:  \n",
    "  print(\"Uniue element is\",a)  "
   ]
  },
  {
   "cell_type": "markdown",
   "id": "d06b1977",
   "metadata": {},
   "source": [
    "Find the number of 1’s in a binary number using bit manipulation."
   ]
  },
  {
   "cell_type": "code",
   "execution_count": 50,
   "id": "85469f9e",
   "metadata": {},
   "outputs": [
    {
     "name": "stdout",
     "output_type": "stream",
     "text": [
      "The count of 1's is 5\n"
     ]
    }
   ],
   "source": [
    "a=int(input(\"Enter a binary value\"))\n",
    "n,cnt=a,0\n",
    "while n:\n",
    "  cnt+=(n%10)&1\n",
    "  n//=10\n",
    "print(\"The count of 1's is\",cnt)  "
   ]
  }
 ],
 "metadata": {
  "kernelspec": {
   "display_name": "Python 3 (ipykernel)",
   "language": "python",
   "name": "python3"
  },
  "language_info": {
   "codemirror_mode": {
    "name": "ipython",
    "version": 3
   },
   "file_extension": ".py",
   "mimetype": "text/x-python",
   "name": "python",
   "nbconvert_exporter": "python",
   "pygments_lexer": "ipython3",
   "version": "3.11.5"
  }
 },
 "nbformat": 4,
 "nbformat_minor": 5
}
